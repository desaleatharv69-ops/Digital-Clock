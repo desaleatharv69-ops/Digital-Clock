{
 "cells": [
  {
   "cell_type": "code",
   "execution_count": 3,
   "id": "2e4a6da1-59e4-4e2d-8c93-7b90329d0fe6",
   "metadata": {},
   "outputs": [],
   "source": [
    "import tkinter as tk\n",
    "from time import strftime\n",
    "\n",
    "def update_time():\n",
    "    time_string = strftime('%I:%M:%S %p')  \n",
    "    date_string = strftime('%A, %d %B %Y')  \n",
    "    time_label.config(text=time_string)\n",
    "    date_label.config(text=date_string)\n",
    "    root.after(1000, update_time)\n",
    "\n",
    "root = tk.Tk()\n",
    "root.title(\"Digital Clock\")\n",
    "root.geometry(\"500x250\")\n",
    "root.configure(bg=\"#1e1e2f\")  \n",
    "root.resizable(False, False)\n",
    "\n",
    "time_label = tk.Label(root, font=('DS-Digital', 60), bg='#1e1e2f', fg='#00FFEF')\n",
    "time_label.pack(pady=20)\n",
    "\n",
    "date_label = tk.Label(root, font=('Arial', 20), bg='#1e1e2f', fg='#fffc9e')\n",
    "date_label.pack()\n",
    "\n",
    "update_time()\n",
    "root.mainloop()\n"
   ]
  }
 ],
 "metadata": {
  "kernelspec": {
   "display_name": "Python [conda env:base] *",
   "language": "python",
   "name": "conda-base-py"
  },
  "language_info": {
   "codemirror_mode": {
    "name": "ipython",
    "version": 3
   },
   "file_extension": ".py",
   "mimetype": "text/x-python",
   "name": "python",
   "nbconvert_exporter": "python",
   "pygments_lexer": "ipython3",
   "version": "3.13.5"
  }
 },
 "nbformat": 4,
 "nbformat_minor": 5
}
